{
 "cells": [
  {
   "cell_type": "code",
   "execution_count": 1,
   "id": "f2bca194",
   "metadata": {},
   "outputs": [
    {
     "name": "stdout",
     "output_type": "stream",
     "text": [
      "hello, world!\n"
     ]
    }
   ],
   "source": [
    "# start with the common text words\n",
    "print('hello, world!')"
   ]
  },
  {
   "cell_type": "code",
   "execution_count": 4,
   "id": "bf488ba9",
   "metadata": {},
   "outputs": [
    {
     "name": "stdout",
     "output_type": "stream",
     "text": [
      "2 + 3 = 5\n",
      "2 - 3 = -1\n",
      "2 * 3 = 6\n",
      "2 / 3 = 0.6666666666666666\n"
     ]
    }
   ],
   "source": [
    "# next, do basic math\n",
    "i = 2\n",
    "j = 3\n",
    "print(str(i) + ' + ' + str(j) + ' = ' + str(i + j))\n",
    "print(str(i) + ' - ' + str(j) + ' = ' + str(i - j))\n",
    "print(str(i) + ' * ' + str(j) + ' = ' + str(i * j))\n",
    "print(str(i) + ' / ' + str(j) + ' = ' + str(i / j))"
   ]
  },
  {
   "cell_type": "code",
   "execution_count": 5,
   "id": "66451b15",
   "metadata": {},
   "outputs": [
    {
     "name": "stdout",
     "output_type": "stream",
     "text": [
      "0\n",
      "1\n",
      "2\n",
      "3\n",
      "4\n"
     ]
    }
   ],
   "source": [
    "# iteration\n",
    "i = 0\n",
    "for i in range(5):\n",
    "    print(str(i))"
   ]
  },
  {
   "cell_type": "code",
   "execution_count": null,
   "id": "634f8e57",
   "metadata": {},
   "outputs": [
    {
     "ename": "SyntaxError",
     "evalue": "(unicode error) 'unicodeescape' codec can't decode bytes in position 0-1: truncated \\UXXXXXXXX escape (2621915047.py, line 3)",
     "output_type": "error",
     "traceback": [
      "  \u001b[36mCell\u001b[39m\u001b[36m \u001b[39m\u001b[32mIn[2]\u001b[39m\u001b[32m, line 3\u001b[39m\n\u001b[31m    \u001b[39m\u001b[31mfile_location = '\\Users\\yusuk\\Pictures\\Screenshots\\FinalFantasyMainThemePianoScore2'\u001b[39m\n                    ^\n\u001b[31mSyntaxError\u001b[39m\u001b[31m:\u001b[39m (unicode error) 'unicodeescape' codec can't decode bytes in position 0-1: truncated \\UXXXXXXXX escape\n"
     ]
    },
    {
     "ename": "",
     "evalue": "",
     "output_type": "error",
     "traceback": [
      "\u001b[1;31mThe Kernel crashed while executing code in the current cell or a previous cell. \n",
      "\u001b[1;31mPlease review the code in the cell(s) to identify a possible cause of the failure. \n",
      "\u001b[1;31mClick <a href='https://aka.ms/vscodeJupyterKernelCrash'>here</a> for more info. \n",
      "\u001b[1;31mView Jupyter <a href='command:jupyter.viewOutput'>log</a> for further details."
     ]
    }
   ],
   "source": [
    "import glob\n",
    "# file_location = 'C:\\Users\\yusuk\\Pictures\\Screenshots\\FinalFantasyMainThemePianoScore2'\n",
    "file_location = '\\Users\\yusuk\\Pictures\\Screenshots\\FinalFantasyMainThemePianoScore2'\n",
    "file_list = glob.glob(file_location)\n",
    "print(file_list[0])"
   ]
  },
  {
   "cell_type": "code",
   "execution_count": null,
   "id": "705a03ce",
   "metadata": {},
   "outputs": [],
   "source": [
    "# from PIL import Image\n",
    "\n",
    "# images = [Image.open(\"screenshot1.png\"), Image.open(\"screenshot2.png\")]\n",
    "# width = max(img.width for img in images)\n",
    "# height = sum(img.height for img in images)\n",
    "\n",
    "# new_image = Image.new(\"RGB\", (width, height))\n",
    "\n",
    "# y_offset = 0\n",
    "# for img in images:\n",
    "#     new_image.paste(img, (0, y_offset))\n",
    "#     y_offset += img.height\n",
    "\n",
    "# new_image.save(\"merged_screenshot.png\")"
   ]
  }
 ],
 "metadata": {
  "kernelspec": {
   "display_name": "Python 3",
   "language": "python",
   "name": "python3"
  },
  "language_info": {
   "codemirror_mode": {
    "name": "ipython",
    "version": 3
   },
   "file_extension": ".py",
   "mimetype": "text/x-python",
   "name": "python",
   "nbconvert_exporter": "python",
   "pygments_lexer": "ipython3",
   "version": "3.13.3"
  }
 },
 "nbformat": 4,
 "nbformat_minor": 5
}
