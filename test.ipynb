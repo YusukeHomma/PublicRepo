{
 "cells": [
  {
   "cell_type": "code",
   "execution_count": 3,
   "id": "531e1cb2",
   "metadata": {},
   "outputs": [],
   "source": [
    "# pip install seaborn"
   ]
  },
  {
   "cell_type": "code",
   "execution_count": 13,
   "id": "a8635d99",
   "metadata": {},
   "outputs": [],
   "source": [
    "# import the required libraries\n",
    "import glob\n",
    "import pandas as pd\n",
    "import seaborn as sns\n",
    "import numpy as np\n",
    "import matplotlib.pyplot as plt"
   ]
  },
  {
   "cell_type": "code",
   "execution_count": 5,
   "id": "f2bca194",
   "metadata": {},
   "outputs": [
    {
     "name": "stdout",
     "output_type": "stream",
     "text": [
      "hello, world!\n"
     ]
    }
   ],
   "source": [
    "# start with the common text words\n",
    "print('hello, world!')"
   ]
  },
  {
   "cell_type": "code",
   "execution_count": 6,
   "id": "bf488ba9",
   "metadata": {},
   "outputs": [
    {
     "name": "stdout",
     "output_type": "stream",
     "text": [
      "2 + 3 = 5\n",
      "2 - 3 = -1\n",
      "2 * 3 = 6\n",
      "2 / 3 = 0.6666666666666666\n"
     ]
    }
   ],
   "source": [
    "# next, do basic math\n",
    "i = 2\n",
    "j = 3\n",
    "print(str(i) + ' + ' + str(j) + ' = ' + str(i + j))\n",
    "print(str(i) + ' - ' + str(j) + ' = ' + str(i - j))\n",
    "print(str(i) + ' * ' + str(j) + ' = ' + str(i * j))\n",
    "print(str(i) + ' / ' + str(j) + ' = ' + str(i / j))"
   ]
  },
  {
   "cell_type": "code",
   "execution_count": 7,
   "id": "66451b15",
   "metadata": {},
   "outputs": [
    {
     "name": "stdout",
     "output_type": "stream",
     "text": [
      "0\n",
      "1\n",
      "2\n",
      "3\n",
      "4\n"
     ]
    }
   ],
   "source": [
    "# iteration\n",
    "i = 0\n",
    "for i in range(5):\n",
    "    print(str(i))"
   ]
  },
  {
   "cell_type": "code",
   "execution_count": null,
   "id": "634f8e57",
   "metadata": {},
   "outputs": [
    {
     "name": "stdout",
     "output_type": "stream",
     "text": [
      ".\\Foreign_Tourists_to_Japan_by_month.csv\n"
     ]
    }
   ],
   "source": [
    "# load csv file list\n",
    "# data source: https://statistics.jnto.go.jp/en/graph/#graph--inbound--travelers--transition\n",
    "file_list = glob.glob('./*.csv')\n",
    "print(file_list[0])"
   ]
  },
  {
   "cell_type": "code",
   "execution_count": 97,
   "id": "705a03ce",
   "metadata": {},
   "outputs": [
    {
     "data": {
      "text/html": [
       "<div>\n",
       "<style scoped>\n",
       "    .dataframe tbody tr th:only-of-type {\n",
       "        vertical-align: middle;\n",
       "    }\n",
       "\n",
       "    .dataframe tbody tr th {\n",
       "        vertical-align: top;\n",
       "    }\n",
       "\n",
       "    .dataframe thead th {\n",
       "        text-align: right;\n",
       "    }\n",
       "</style>\n",
       "<table border=\"1\" class=\"dataframe\">\n",
       "  <thead>\n",
       "    <tr style=\"text-align: right;\">\n",
       "      <th></th>\n",
       "      <th>Country/Area</th>\n",
       "      <th>Month (abbr)</th>\n",
       "      <th>Year</th>\n",
       "      <th>Growth Rate(%)</th>\n",
       "      <th>Visitor Arrivals</th>\n",
       "    </tr>\n",
       "  </thead>\n",
       "  <tbody>\n",
       "    <tr>\n",
       "      <th>0</th>\n",
       "      <td>Afghanistan</td>\n",
       "      <td>Jan.</td>\n",
       "      <td>2019</td>\n",
       "      <td>NaN</td>\n",
       "      <td>263</td>\n",
       "    </tr>\n",
       "    <tr>\n",
       "      <th>1</th>\n",
       "      <td>Afghanistan</td>\n",
       "      <td>Feb.</td>\n",
       "      <td>2019</td>\n",
       "      <td>NaN</td>\n",
       "      <td>205</td>\n",
       "    </tr>\n",
       "    <tr>\n",
       "      <th>2</th>\n",
       "      <td>Afghanistan</td>\n",
       "      <td>Mar.</td>\n",
       "      <td>2019</td>\n",
       "      <td>NaN</td>\n",
       "      <td>245</td>\n",
       "    </tr>\n",
       "    <tr>\n",
       "      <th>3</th>\n",
       "      <td>Afghanistan</td>\n",
       "      <td>Apr.</td>\n",
       "      <td>2019</td>\n",
       "      <td>NaN</td>\n",
       "      <td>244</td>\n",
       "    </tr>\n",
       "    <tr>\n",
       "      <th>4</th>\n",
       "      <td>Afghanistan</td>\n",
       "      <td>May</td>\n",
       "      <td>2019</td>\n",
       "      <td>NaN</td>\n",
       "      <td>172</td>\n",
       "    </tr>\n",
       "  </tbody>\n",
       "</table>\n",
       "</div>"
      ],
      "text/plain": [
       "  Country/Area Month (abbr)  Year Growth Rate(%) Visitor Arrivals\n",
       "0  Afghanistan         Jan.  2019            NaN              263\n",
       "1  Afghanistan         Feb.  2019            NaN              205\n",
       "2  Afghanistan         Mar.  2019            NaN              245\n",
       "3  Afghanistan         Apr.  2019            NaN              244\n",
       "4  Afghanistan          May  2019            NaN              172"
      ]
     },
     "execution_count": 97,
     "metadata": {},
     "output_type": "execute_result"
    }
   ],
   "source": [
    "# read csv file and take a look\n",
    "df_sample = pd.read_csv(file_list[0])\n",
    "df_sample.head()"
   ]
  },
  {
   "cell_type": "code",
   "execution_count": 98,
   "id": "569b97c7",
   "metadata": {},
   "outputs": [
    {
     "name": "stdout",
     "output_type": "stream",
     "text": [
      "<class 'pandas.core.frame.DataFrame'>\n",
      "RangeIndex: 16800 entries, 0 to 16799\n",
      "Data columns (total 5 columns):\n",
      " #   Column            Non-Null Count  Dtype \n",
      "---  ------            --------------  ----- \n",
      " 0   Country/Area      16800 non-null  object\n",
      " 1   Month (abbr)      16800 non-null  object\n",
      " 2   Year              16800 non-null  int64 \n",
      " 3   Growth Rate(%)    13303 non-null  object\n",
      " 4   Visitor Arrivals  15200 non-null  object\n",
      "dtypes: int64(1), object(4)\n",
      "memory usage: 656.4+ KB\n"
     ]
    }
   ],
   "source": [
    "# check data size, columns, non-null count and data type\n",
    "df_sample.info()"
   ]
  },
  {
   "cell_type": "code",
   "execution_count": 99,
   "id": "e72186d4",
   "metadata": {},
   "outputs": [],
   "source": [
    "# fill null value with 0 for 2 columns\n",
    "df_sample.fillna({\"Growth Rate(%)\": 0}, inplace=True)\n",
    "df_sample.fillna({\"Visitor Arrivals\": 0}, inplace=True)"
   ]
  },
  {
   "cell_type": "code",
   "execution_count": 100,
   "id": "4a3d9c54",
   "metadata": {},
   "outputs": [
    {
     "data": {
      "text/plain": [
       "2270      3,220\n",
       "15547       211\n",
       "11918         6\n",
       "15971         0\n",
       "5103          5\n",
       "9818         42\n",
       "15756       509\n",
       "6524     32,354\n",
       "10976     2,019\n",
       "3503        198\n",
       "Name: Visitor Arrivals, dtype: object"
      ]
     },
     "execution_count": 100,
     "metadata": {},
     "output_type": "execute_result"
    }
   ],
   "source": [
    "df_sample[\"Visitor Arrivals\"].sample(10)"
   ]
  },
  {
   "cell_type": "code",
   "execution_count": 101,
   "id": "c0a28745",
   "metadata": {},
   "outputs": [
    {
     "data": {
      "text/plain": [
       "array(['Jan.', 'Feb.', 'Mar.', 'Apr.', 'May', 'Jun.', 'Jul.', 'Aug.',\n",
       "       'Sep.', 'Oct.', 'Nov.', 'Dec.'], dtype=object)"
      ]
     },
     "execution_count": 101,
     "metadata": {},
     "output_type": "execute_result"
    }
   ],
   "source": [
    "df_sample[\"Month (abbr)\"].unique()"
   ]
  },
  {
   "cell_type": "code",
   "execution_count": 102,
   "id": "6f279f3f",
   "metadata": {},
   "outputs": [],
   "source": [
    "# create a dictionary to convert month from character to number\n",
    "# I see May miss period unlike the other months. Need to map it carefully.\n",
    "dict_month_map = {\n",
    "    \"Jan.\":1,\"Feb.\":2, \"Mar.\":3, \"Apr.\":4,\n",
    "    \"May\":5,\"Jun.\":6,\"Jul.\":7,\"Aug.\":8,\n",
    "    \"Sep.\":9,\"Oct.\":10,\"Nov.\":11,\"Dec.\":12\n",
    "    }"
   ]
  },
  {
   "cell_type": "code",
   "execution_count": 103,
   "id": "1ea3d478",
   "metadata": {},
   "outputs": [
    {
     "data": {
      "text/html": [
       "<div>\n",
       "<style scoped>\n",
       "    .dataframe tbody tr th:only-of-type {\n",
       "        vertical-align: middle;\n",
       "    }\n",
       "\n",
       "    .dataframe tbody tr th {\n",
       "        vertical-align: top;\n",
       "    }\n",
       "\n",
       "    .dataframe thead th {\n",
       "        text-align: right;\n",
       "    }\n",
       "</style>\n",
       "<table border=\"1\" class=\"dataframe\">\n",
       "  <thead>\n",
       "    <tr style=\"text-align: right;\">\n",
       "      <th></th>\n",
       "      <th>Country/Area</th>\n",
       "      <th>Month</th>\n",
       "      <th>Year</th>\n",
       "      <th>Growth Rate(%)</th>\n",
       "      <th>Visitor Arrivals</th>\n",
       "    </tr>\n",
       "  </thead>\n",
       "  <tbody>\n",
       "    <tr>\n",
       "      <th>0</th>\n",
       "      <td>Afghanistan</td>\n",
       "      <td>1</td>\n",
       "      <td>2019</td>\n",
       "      <td>NaN</td>\n",
       "      <td>263</td>\n",
       "    </tr>\n",
       "    <tr>\n",
       "      <th>1</th>\n",
       "      <td>Afghanistan</td>\n",
       "      <td>2</td>\n",
       "      <td>2019</td>\n",
       "      <td>NaN</td>\n",
       "      <td>205</td>\n",
       "    </tr>\n",
       "    <tr>\n",
       "      <th>2</th>\n",
       "      <td>Afghanistan</td>\n",
       "      <td>3</td>\n",
       "      <td>2019</td>\n",
       "      <td>NaN</td>\n",
       "      <td>245</td>\n",
       "    </tr>\n",
       "    <tr>\n",
       "      <th>3</th>\n",
       "      <td>Afghanistan</td>\n",
       "      <td>4</td>\n",
       "      <td>2019</td>\n",
       "      <td>NaN</td>\n",
       "      <td>244</td>\n",
       "    </tr>\n",
       "    <tr>\n",
       "      <th>4</th>\n",
       "      <td>Afghanistan</td>\n",
       "      <td>5</td>\n",
       "      <td>2019</td>\n",
       "      <td>NaN</td>\n",
       "      <td>172</td>\n",
       "    </tr>\n",
       "  </tbody>\n",
       "</table>\n",
       "</div>"
      ],
      "text/plain": [
       "  Country/Area  Month  Year  Growth Rate(%)  Visitor Arrivals\n",
       "0  Afghanistan      1  2019             NaN               263\n",
       "1  Afghanistan      2  2019             NaN               205\n",
       "2  Afghanistan      3  2019             NaN               245\n",
       "3  Afghanistan      4  2019             NaN               244\n",
       "4  Afghanistan      5  2019             NaN               172"
      ]
     },
     "execution_count": 103,
     "metadata": {},
     "output_type": "execute_result"
    }
   ],
   "source": [
    "# convert Month data from character to numeric\n",
    "df_sample[\"Month (abbr)\"] = df_sample[\"Month (abbr)\"].apply(lambda x: dict_month_map[x])\n",
    "# rename columns\n",
    "df_sample.rename(columns={\"Month (abbr)\": \"Month\"}, inplace=True)\n",
    "# change the data type for some columns\n",
    "df_sample[\"Month\"] = df_sample[\"Month\"].astype(int)\n",
    "df_sample[\"Growth Rate(%)\"] = df_sample[\"Growth Rate(%)\"].str.replace(',', '').astype(float)\n",
    "df_sample[\"Visitor Arrivals\"] = df_sample[\"Visitor Arrivals\"].str.replace(',','').astype(\"Int64\")\n",
    "df_sample.head()\n"
   ]
  },
  {
   "cell_type": "code",
   "execution_count": 104,
   "id": "9389843b",
   "metadata": {},
   "outputs": [
    {
     "data": {
      "text/plain": [
       "array([2019, 2020, 2021, 2022, 2023, 2024, 2025])"
      ]
     },
     "execution_count": 104,
     "metadata": {},
     "output_type": "execute_result"
    }
   ],
   "source": [
    "# check the value of the year\n",
    "df_sample[\"Year\"].unique()"
   ]
  },
  {
   "cell_type": "code",
   "execution_count": 107,
   "id": "d3add427",
   "metadata": {},
   "outputs": [
    {
     "name": "stderr",
     "output_type": "stream",
     "text": [
      "C:\\Users\\yusuk\\AppData\\Local\\Temp\\ipykernel_19936\\3718857973.py:2: FutureWarning: The provided callable <function sum at 0x0000017D6A07FB00> is currently using SeriesGroupBy.sum. In a future version of pandas, the provided callable will be used directly. To keep current behavior pass the string \"sum\" instead.\n",
      "  df_agg = df_sample.groupby([\"Year\",\"Month\"]).agg({\"Visitor Arrivals\": np.sum}).reset_index()\n"
     ]
    },
    {
     "data": {
      "text/html": [
       "<div>\n",
       "<style scoped>\n",
       "    .dataframe tbody tr th:only-of-type {\n",
       "        vertical-align: middle;\n",
       "    }\n",
       "\n",
       "    .dataframe tbody tr th {\n",
       "        vertical-align: top;\n",
       "    }\n",
       "\n",
       "    .dataframe thead th {\n",
       "        text-align: right;\n",
       "    }\n",
       "</style>\n",
       "<table border=\"1\" class=\"dataframe\">\n",
       "  <thead>\n",
       "    <tr style=\"text-align: right;\">\n",
       "      <th></th>\n",
       "      <th>Year</th>\n",
       "      <th>Month</th>\n",
       "      <th>Visitor Arrivals</th>\n",
       "    </tr>\n",
       "  </thead>\n",
       "  <tbody>\n",
       "    <tr>\n",
       "      <th>0</th>\n",
       "      <td>2019</td>\n",
       "      <td>1</td>\n",
       "      <td>2689339</td>\n",
       "    </tr>\n",
       "    <tr>\n",
       "      <th>1</th>\n",
       "      <td>2019</td>\n",
       "      <td>2</td>\n",
       "      <td>2604322</td>\n",
       "    </tr>\n",
       "    <tr>\n",
       "      <th>2</th>\n",
       "      <td>2019</td>\n",
       "      <td>3</td>\n",
       "      <td>2760136</td>\n",
       "    </tr>\n",
       "    <tr>\n",
       "      <th>3</th>\n",
       "      <td>2019</td>\n",
       "      <td>4</td>\n",
       "      <td>2926685</td>\n",
       "    </tr>\n",
       "    <tr>\n",
       "      <th>4</th>\n",
       "      <td>2019</td>\n",
       "      <td>5</td>\n",
       "      <td>2773091</td>\n",
       "    </tr>\n",
       "  </tbody>\n",
       "</table>\n",
       "</div>"
      ],
      "text/plain": [
       "   Year  Month  Visitor Arrivals\n",
       "0  2019      1           2689339\n",
       "1  2019      2           2604322\n",
       "2  2019      3           2760136\n",
       "3  2019      4           2926685\n",
       "4  2019      5           2773091"
      ]
     },
     "execution_count": 107,
     "metadata": {},
     "output_type": "execute_result"
    }
   ],
   "source": [
    "# create a new dataframe which is aggregated by year and month\n",
    "df_agg = df_sample.groupby([\"Year\",\"Month\"]).agg({\"Visitor Arrivals\": np.sum}).reset_index()\n",
    "df_agg.head()"
   ]
  },
  {
   "cell_type": "code",
   "execution_count": 112,
   "id": "e2f0955a",
   "metadata": {},
   "outputs": [
    {
     "data": {
      "image/png": "[encoded data removed]",
      "text/plain": [
       "<Figure size 640x480 with 1 Axes>"
      ]
     },
     "metadata": {},
     "output_type": "display_data"
    }
   ],
   "source": [
    "# draw a line chart to see the trend of visitors by month\n",
    "sns.lineplot(data=df_agg, x=\"Month\",y=\"Visitor Arrivals\",hue=\"Year\",palette=\"bright\")\n",
    "plt.show()"
   ]
  },
  {
   "cell_type": "code",
   "execution_count": 113,
   "id": "57da0f47",
   "metadata": {},
   "outputs": [],
   "source": [
    "# export the preprocessed data\n",
    "df_sample.to_csv('foreign_tourists_to_japan_by_month_preprocessed.csv',header=True,index=False)"
   ]
  },
  {
   "cell_type": "code",
   "execution_count": 114,
   "id": "eb5510e5",
   "metadata": {},
   "outputs": [
    {
     "data": {
      "text/html": [
       "<div>\n",
       "<style scoped>\n",
       "    .dataframe tbody tr th:only-of-type {\n",
       "        vertical-align: middle;\n",
       "    }\n",
       "\n",
       "    .dataframe tbody tr th {\n",
       "        vertical-align: top;\n",
       "    }\n",
       "\n",
       "    .dataframe thead th {\n",
       "        text-align: right;\n",
       "    }\n",
       "</style>\n",
       "<table border=\"1\" class=\"dataframe\">\n",
       "  <thead>\n",
       "    <tr style=\"text-align: right;\">\n",
       "      <th></th>\n",
       "      <th>Year</th>\n",
       "      <th>Month</th>\n",
       "      <th>Visitor Arrivals</th>\n",
       "    </tr>\n",
       "  </thead>\n",
       "  <tbody>\n",
       "    <tr>\n",
       "      <th>0</th>\n",
       "      <td>2019</td>\n",
       "      <td>1</td>\n",
       "      <td>2689339</td>\n",
       "    </tr>\n",
       "    <tr>\n",
       "      <th>1</th>\n",
       "      <td>2019</td>\n",
       "      <td>2</td>\n",
       "      <td>2604322</td>\n",
       "    </tr>\n",
       "    <tr>\n",
       "      <th>2</th>\n",
       "      <td>2019</td>\n",
       "      <td>3</td>\n",
       "      <td>2760136</td>\n",
       "    </tr>\n",
       "    <tr>\n",
       "      <th>3</th>\n",
       "      <td>2019</td>\n",
       "      <td>4</td>\n",
       "      <td>2926685</td>\n",
       "    </tr>\n",
       "    <tr>\n",
       "      <th>4</th>\n",
       "      <td>2019</td>\n",
       "      <td>5</td>\n",
       "      <td>2773091</td>\n",
       "    </tr>\n",
       "  </tbody>\n",
       "</table>\n",
       "</div>"
      ],
      "text/plain": [
       "   Year  Month  Visitor Arrivals\n",
       "0  2019      1           2689339\n",
       "1  2019      2           2604322\n",
       "2  2019      3           2760136\n",
       "3  2019      4           2926685\n",
       "4  2019      5           2773091"
      ]
     },
     "execution_count": 114,
     "metadata": {},
     "output_type": "execute_result"
    }
   ],
   "source": [
    "df_agg.head()"
   ]
  },
  {
   "cell_type": "code",
   "execution_count": null,
   "id": "18a504fe",
   "metadata": {},
   "outputs": [],
   "source": []
  }
 ],
 "metadata": {
  "kernelspec": {
   "display_name": "Python 3",
   "language": "python",
   "name": "python3"
  },
  "language_info": {
   "codemirror_mode": {
    "name": "ipython",
    "version": 3
   },
   "file_extension": ".py",
   "mimetype": "text/x-python",
   "name": "python",
   "nbconvert_exporter": "python",
   "pygments_lexer": "ipython3",
   "version": "3.13.3"
  }
 },
 "nbformat": 4,
 "nbformat_minor": 5
}
